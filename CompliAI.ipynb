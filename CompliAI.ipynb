{
 "cells": [
  {
   "cell_type": "markdown",
   "metadata": {},
   "source": [
    "# Configuração inicial\n",
    "É preciso definir as API Keys no arquivo \".env\" antes de iniciar.\n",
    "**Não divulge as informações que estão no seu arquivo \".env\"**"
   ]
  },
  {
   "cell_type": "code",
   "execution_count": 7,
   "metadata": {},
   "outputs": [
    {
     "data": {
      "text/plain": [
       "True"
      ]
     },
     "execution_count": 7,
     "metadata": {},
     "output_type": "execute_result"
    }
   ],
   "source": [
    "from langchain_core.output_parsers import StrOutputParser\n",
    "from langchain_core.prompts import ChatPromptTemplate\n",
    "from langchain_openai import ChatOpenAI\n",
    "from dotenv import load_dotenv,find_dotenv\n",
    "import os\n",
    "\n",
    "load_dotenv(find_dotenv())"
   ]
  },
  {
   "cell_type": "markdown",
   "metadata": {},
   "source": [
    "### Prompt Templates\n",
    "São \"templates de prompts\", onde podemos utilizar textos pré montados e também podemos incluir variaveis para substituir no momento da chamada da LLM"
   ]
  },
  {
   "cell_type": "code",
   "execution_count": 8,
   "metadata": {},
   "outputs": [
    {
     "name": "stdout",
     "output_type": "stream",
     "text": [
      "Por que o sorvete foi ao psicólogo?\n",
      "Porque ele estava derretendo de tristeza!\n",
      "-----------\n",
      "Por que o carro foi ao psicólogo?\n",
      "\n",
      "Porque ele estava com problemas de freio e não conseguia parar de chorar!\n",
      "-----------\n",
      "Por que o jogador de futebol foi ao médico?\n",
      "Porque estava com bola no pé!\n"
     ]
    }
   ],
   "source": [
    "prompt = ChatPromptTemplate.from_template(\"Me conte uma piada sobre {assunto}\")\n",
    "model = ChatOpenAI(model=\"gpt-3.5-turbo\")\n",
    "output_parser = StrOutputParser()\n",
    "\n",
    "chain = (prompt | model | output_parser)\n",
    "\n",
    "pr1 = chain.invoke({\"assunto\": \"sorvete\"})\n",
    "pr2 = chain.invoke({\"assunto\": \"carro\"})\n",
    "pr3 = chain.invoke({\"assunto\": \"futebol\"})\n",
    "\n",
    "print(pr1)\n",
    "print('-----------')\n",
    "print(pr2)\n",
    "print('-----------')\n",
    "print(pr3)"
   ]
  },
  {
   "cell_type": "markdown",
   "metadata": {},
   "source": [
    "### Tipos de Prompt\n",
    "Quando utilizamos as LLMs no formato de CHAT, existem 3 tipos de prompts  \n",
    "**AIMessage** = Mensagem que mostra o que a IA irá responder  \n",
    "**HumamMessage** = Mensagem que representa a intenção do usuario  \n",
    "**SystemMessage** = Context de background explicando o que a IA precisa fazer  \n",
    "\n",
    "Podemos utilizar estes 3 tipos para influenciar a resposta da LLM"
   ]
  },
  {
   "cell_type": "code",
   "execution_count": 9,
   "metadata": {},
   "outputs": [
    {
     "name": "stdout",
     "output_type": "stream",
     "text": [
      "{\n",
      "    \"pergunta\": \"Me conte uma piada sobre sorvete\",\n",
      "    \"piada\": \"Por que o sorvete foi ao psicólogo? Porque ele tinha casquinha de chocolate!\"\n",
      "}\n",
      "-----------\n",
      "{\n",
      "    \"pergunta\": \"Me conte uma piada sobre carro\",\n",
      "    \"piada\": \"Por que o carro foi ao hospital? Porque ele estava com pneumonia!\"\n",
      "}\n",
      "-----------\n",
      "{\n",
      "    \"pergunta\": \"Me conte uma piada sobre futebol\",\n",
      "    \"piada\": \"Por que o jogador de futebol foi expulso da escola? Porque ele chutou a canela do professor!\"\n",
      "}\n"
     ]
    }
   ],
   "source": [
    "tipos_promptp =[\n",
    "    (\n",
    "        \"system\",\n",
    "        \"A resposta do usuário sempre deverá ser um JSON com os atributos pergunta: PERGUNTA FEITA, piada: PIADA GERADA e não deve conter quebras de linha\"\n",
    "     ),\n",
    "    (\n",
    "        \"human\",\n",
    "        \"Me conte uma piada sobre {assunto}\"\n",
    "    )\n",
    "    ]\n",
    "\n",
    "chat_prompt = ChatPromptTemplate.from_messages(tipos_promptp)\n",
    "\n",
    "model = ChatOpenAI(model=\"gpt-3.5-turbo\")\n",
    "output_parser = StrOutputParser()\n",
    "\n",
    "chain = chat_prompt | model | output_parser\n",
    "\n",
    "pr1 = chain.invoke({\"assunto\": \"sorvete\"})\n",
    "pr2 = chain.invoke({\"assunto\": \"carro\"})\n",
    "pr3 = chain.invoke({\"assunto\": \"futebol\"})\n",
    "\n",
    "print(pr1)\n",
    "print('-----------')\n",
    "print(pr2)\n",
    "print('-----------')\n",
    "print(pr3)\n"
   ]
  },
  {
   "cell_type": "markdown",
   "metadata": {},
   "source": [
    "### Document Loaders\n",
    "Quando vamos construir uma aplicação para ler os documentos, primeiro é preciso carregar estes documentos e para cada tipo de documento existe uma forma diferente."
   ]
  },
  {
   "cell_type": "markdown",
   "metadata": {},
   "source": [
    "#### CSV"
   ]
  },
  {
   "cell_type": "code",
   "execution_count": 10,
   "metadata": {},
   "outputs": [
    {
     "name": "stdout",
     "output_type": "stream",
     "text": [
      "[Document(page_content='Nome: Lucas Souza\\nsalario: 1000\\ndata de admissao: 01/01/2022\\ndata de nascimento: 29/08/1992\\ncargo: Diretor', metadata={'source': 'Lucas Souza', 'row': 0}), Document(page_content='Nome: Mateus Sampaio\\nsalario: 8000\\ndata de admissao: 01/05/2023\\ndata de nascimento: 26/11/1989\\ncargo: Programador', metadata={'source': 'Mateus Sampaio', 'row': 1}), Document(page_content='Nome: Edvaldo José\\nsalario: 20000\\ndata de admissao: 01/01/2020\\ndata de nascimento: 27/11/1956\\ncargo: Gerente', metadata={'source': 'Edvaldo José', 'row': 2})]\n"
     ]
    }
   ],
   "source": [
    "from langchain_community.document_loaders.csv_loader import CSVLoader\n",
    "salarioCSV = CSVLoader(file_path='./CSVs/salarios.csv', csv_args={\n",
    "    'delimiter': ';',\n",
    "    'quotechar': '\"',\n",
    "}, source_column=\"Nome\")\n",
    "\n",
    "salarios = salarioCSV.load()\n",
    "print(salarios)"
   ]
  },
  {
   "cell_type": "markdown",
   "metadata": {},
   "source": [
    "#### PDF"
   ]
  },
  {
   "cell_type": "code",
   "execution_count": 11,
   "metadata": {},
   "outputs": [
    {
     "name": "stdout",
     "output_type": "stream",
     "text": [
      "[Document(page_content='Day OFF  [Qualidade de Vida]  \\nO objetivo é cuidar de quem cuida do negócio . \\nO intuito é conceder um período de descanso e proporcionar bem -estar físico e mental a todos os prestadores \\ne colaboradores da CIA.  \\n \\n \\n• Os Prestadores de Serviços e colaboradores  serão presenteados com um voucher IF OOD no valor de \\nR$ 100,00 pa ra utilizar como desejar n o aplicativo . O Voucher será en viado no d ia do aniversário \\ncom o c ódigo de utilização;  \\n \\n•  Os Prestadores de Serviços e colaboradores  aniversariantes, terão direito a um dia de descanso no \\nmês de  aniversário  (deve ser alinhado com gestor  de cada área) .', metadata={'source': './PDFs/Day Off.pdf', 'page': 0})]\n",
      "1\n",
      "--------\n",
      "[Document(page_content='Férias e Co [Qualidade de Vida]  \\nO intuito é incentivar um período de descanso e proporcionar bem -estar físico e mental a todos os \\nprestadores e colaboradores da CIA, com acesso a passagens e hospedagens com valores reduzidos.  \\n \\nRegras para adesão e utilização do Programa:  \\n \\n• Clique no link  https://ferias.co/colaborador/ , vá em assine já e insira os dados e escolha seu plano, o \\nFérias  e CO irá identifica -lo como colaborador ou prestador de serviços da empresa Com pliance;  \\n \\n• A partir de agora já está apto para acessar a plataforma através dos dados enviados para seu e -mail.  \\n \\nOs planos e descontos que contemplam nossa parceira já estarão disponíveis para sua contratação.  \\n \\n• A Compliance participará de  um percentual p ara os plano s disponível no programa férias e Co .  \\n \\nO pagamento do percentual do colaborador ou prestador de serviços será cobrado diretamente no seu \\ncartão de crédito.', metadata={'source': './PDFs/Orientações do Programa Férias e CO.pdf', 'page': 0})]\n",
      "1\n",
      "--------\n",
      "[Document(page_content='Descanso  Remunerado  [Qualidade  de Vida]  \\nO objetivo  é cuidar  de quem  cuida  do negócio.  \\nO intuito  é conceder  um período  de descanso  e proporcionar  bem -estar  físico  e mental  a todos  os prestadores  \\ne colaboradores da CIA.  \\n \\nRegras  para  adesão  e utilização  do Programa:  \\n \\n \\n• Após  a aprovação,  será gerado  o comunicado  a toda  empresa  referente  ao período  de descanso  dos \\nprestadores  de serviço, um  dia antes de sua  ausência.  • Os Prestadores de Serviços que completaram 12 meses trabalhados, terão acesso a concessão de  \\ndescanso;  \\n• O período de descanso será de 10 dias, podendo eles serem utilizados da seguinte forma: 10 dias  \\ncorridos  (nesse caso, não remun eração no s ábado e domingo)  ou fracionar o perío do de descanso \\nremunerado em 02 etapas, sendo elas: 5 dias no  primeiro  semestre e  5 dias no segundo  semestre,  \\nanualmente;  \\n• O período  de descanso  remunerado  não poderá  ser cumulativo.  \\n \\nAs datas  de descanso  remunerados  devem  ser alinhadas  entre  o do Departamento  de Recursos  Humanos  e \\nDiretoria,  sendo  assim, segue  processo  para abertura  de solicitação  de descanso.  \\n \\n• O gestor  da área  deve  solicitar  o acesso  ao período  descanso  remunerado  através  do link: \\nhttps://compliance.bitrix24.com.br/company/lists/199/view/0/?list_section_id  com  30 dias de \\nantecedência, insira os dados solicit ados e envie o formulário para aprovação do Recursos Humanos e  \\nDiretoria  de área.', metadata={'source': './PDFs/Programa Descanso Remunerado.pdf', 'page': 0})]\n",
      "1\n",
      "--------\n",
      "[Document(page_content='Programa Gympass [Qualidade de Vida]  \\nA Compliance continua engajada com o bem -estar  dos colaboradores . \\nO objetivo é cuidar de quem cuida do negócio , sendo assim  divulgamos a parceria com o programa de \\nqualidade de vida Gympass . O intuito é estimular a pratica de atividades que melhor se encaixa com o perfil \\nde cada colaborador e proporcionar bem -estar físico e mental a todos onde quer que esteja com custos \\nreduzidos.  \\n \\nE neste momento você  está perguntando  qual os benefícios de adesão ao programa ? \\n \\nLá vão eles:  \\n \\n• Acesso em mais de 21 mil academias e estúdios de atividades físicas;  \\n• Planos mensais com redução de até 75% que o preço de balcão da academia;  \\n• Liberdade para escolher entre centenas de modalidades como natação, yoga, judô etc...;  \\n• Sem matrícula, sem anuidade ou fidelidade com nenhuma academia , possibilidade de utilizar 1 (uma) \\nvez ao dia qualquer academia que contemple o plano escolhido;  \\n• Bem -estar: Bem -estar físico e mental por estar praticando atividade física regularmente ; \\n• Inclusão de dependentes (cônjuge e filhos) que se beneficiam da possibilidade de contração de todos \\nos planos com descontos fornecidos pela parceria Compliance X Gympass.  \\n \\nRegras para adesão e utilização  do Programa:  \\n  \\n• Clique no link https://compliance.bitrix24.com.br/company/lists/155/view/0/?list_section_id=  e \\ninsira os dados para o departamento de Recursos Humanos enviar o formulário ao setor de cadastro \\nGympass e identifica -lo como colaborador da empresa Compliance;  \\n \\n• Após 5 dias úteis do envio do formulário você estará ativo  como colaborador na base de dados do \\nprograma Gympass;  \\n \\n• A partir de agora já está apto a baixar o aplicativo Gympass e efetuar o cadastro de usuário com o seu \\nCPF e e -mail da empresa. Automaticamente o sistema identificará você como nosso colaborador e os \\nplanos e descontos que contemplam nossa parceira já esta rão disponíveis para sua contratação. \\nhttps://www.youtube.com/watch?v=i4B3J5W4L44 ; \\n \\n• O pagamento do plano é cobrado diretamente no seu cartão de crédito com até 75% de desconto do \\nvalor de mercado da mensalidade convencional das academias, devido ao nosso convênio empresarial, \\nonde a Compliance subsidia um percentual para cada plano dispon ível no programa Gympass.  \\n \\n Dúvidas frequentes:  \\n \\n• Como fazer o login?  \\n https://www.youtube.com/watch?v=m7Z9oGgibfA   \\n \\n• Como buscar academias?  \\n https://www.youtube.com/watch?v=m7Z9oGgibfA  \\n \\n• Com entrar nas academias?  \\nhttps://www.youtube.com/watch?v=wlwky7cuqto', metadata={'source': './PDFs/Programa Gympass.pdf', 'page': 0})]\n",
      "1\n"
     ]
    }
   ],
   "source": [
    "from langchain_community.document_loaders import PyPDFLoader\n",
    "\n",
    "dayoff = PyPDFLoader(\"./PDFs/Day Off.pdf\")\n",
    "ferias = PyPDFLoader(\"./PDFs/Orientações do Programa Férias e CO.pdf\")\n",
    "dsr = PyPDFLoader(\"./PDFs/Programa Descanso Remunerado.pdf\")\n",
    "gympass = PyPDFLoader(\"./PDFs/Programa Gympass.pdf\")\n",
    "dayoffLoader = dayoff.load_and_split()\n",
    "feriasLoader = ferias.load_and_split()\n",
    "dsrLoader = dsr.load_and_split()\n",
    "gympassLoader = gympass.load_and_split()\n",
    "print(dayoffLoader)\n",
    "print(len(dayoffLoader))\n",
    "print('--------')\n",
    "print(feriasLoader)\n",
    "print(len(feriasLoader))\n",
    "print('--------')\n",
    "print(dsrLoader)\n",
    "print(len(dsrLoader))\n",
    "print('--------')\n",
    "print(gympassLoader)\n",
    "print(len(gympassLoader))"
   ]
  },
  {
   "cell_type": "markdown",
   "metadata": {},
   "source": [
    "#### WEB"
   ]
  },
  {
   "cell_type": "code",
   "execution_count": 12,
   "metadata": {},
   "outputs": [
    {
     "name": "stdout",
     "output_type": "stream",
     "text": [
      "[Document(page_content='Manual do módulo corporativo · Compliance Capital HumanoCompliance Capital HumanoDocsSuporte›Folha de pagamentoGeralManual de introdução ao sistema HCMGlobalEmpresa usuáriaAgência bancáriaPlano de contas contábilHistórico padrãoDirecionadores contábeisPlano de centro de custosImportação da foto do trabalhadorFolha de pagamentoParâmetros da FolhaCargosCaracterísticas (especificações)ConvêniosSindicatosRubricas x empresa para contabilizaçãoTipos de afastamentosManual do módulo corporativoFPGF0001 - Cargos. Esta programa tem por finalidade explicar detalhadamente como fazer o cadastro de cargos.\\nTodos os campos a serem informados possui uma ajuda (help) explicando detalhadamente o que significa e como informá-lo. Para obter essa ajuda, clique com o mouse sobre o nome do campo que aparecerá uma janela com as informações do respectivo campo.\\nPré-requisito.\\nFPGF0127 - Cadastro de CBO. Antes de iniciar o cadastro abaixo verifique se o CBO do cargo que vai cadastrar está cadastrado.\\nTela que mostra o relatório de cargos \\nCadastramento\\nPara acessar a tela de cadastro de cargos, clique no botão “Criar” .\\n\\nCódigo:  O código deve ser um número sequencial (não permite duplicidade), caso informe um número que já existe o sistema dá a mensagem “Registro já existe” e não permite criar.\\nDescrição e Descrição resumida: deve ser um texto livre que represente o nome do cargo.  Em alguns relatórios ou em algumas listas de seleção é mostrado o campo “Descrição resumida”.\\nSituação: Clique sobre o campo, e escolha uma das opções da lista clicando sobre ela. Quando a “Situação” tiver ativada, significa que o cargo poderá ser usado quando solicitado em cadastros e quando tiver desativada, não será permitido.\\nCBO: Clique sobre o campo, e escolha uma das opções da lista clicando sobre ela. Pode se opcionalmente digitar o nome ou parte do nome desejado para agilizar a pesquisa.\\nValor do salário teto: Informe um valor que possa servir de referência para este cargo.\\nApós ter informado todos os campos, clique em “Criar” para criar o registro e salvar as informações ou em “Cancelar” para desistir. Caso tenha dúvida sobre o preenchimento de algum campo, clique sobre o nome dele que será mostrado uma janela de ajuda com a respectiva explicação.\\nAlteração dos dados cadastrados.\\nPara alterar ou excluir, clique no ícone “Lápis” na tela de relatório acima.\\n\\nApós ter alterado os campos necessários, clique em “Salvar”,para salvar as informações alteradas, em “Cancelar”, para desistir, ou em  para excluir o cargo do cadastro de cargos. Atenção, se o cargo ja tiver sendo usado em algum cadastro ou qualquer outro lugar no sistema, por exemplo, no cadastro de trabalhador, não será permitido excluí-lo. Nesse caso coloque a situação como desativada.\\n← Parâmetros da FolhaNext →DocsIntrodução (Integração)Tabelas auxiliares (Integração)Ficha financeira (Interação)MaisSiteCasos de sucessoHelp-DeskCopyright © 2024 COMVERT', metadata={'source': 'https://docs.compliancecapitalhumano.com.br/docs/cor/009_fpgf0001', 'title': 'Manual do módulo corporativo · Compliance Capital Humano', 'description': '**FPGF0001** - Cargos. Esta programa tem por finalidade explicar detalhadamente como fazer o cadastro de cargos.', 'language': 'en'})]\n",
      "1\n"
     ]
    }
   ],
   "source": [
    "from langchain_community.document_loaders import WebBaseLoader\n",
    "cargos = WebBaseLoader(\"https://docs.compliancecapitalhumano.com.br/docs/cor/009_fpgf0001\")\n",
    "\n",
    "cargosLoader = cargos.load()\n",
    "print(cargosLoader)\n",
    "print(len(cargosLoader))\n",
    "\n"
   ]
  },
  {
   "cell_type": "markdown",
   "metadata": {},
   "source": [
    "### Text Splitters\n",
    "Após carregar os documentos, é preciso quebrar os textos em pedaços menores para ficar mais fácil a busca pelos conteúdos.  \n",
    "Existem diversas formas de fazer este Text Splitter e para cada caso deve ser usar o método mais apropriado  "
   ]
  },
  {
   "cell_type": "code",
   "execution_count": 13,
   "metadata": {},
   "outputs": [
    {
     "name": "stdout",
     "output_type": "stream",
     "text": [
      "[Document(page_content='Day OFF  [Qualidade de Vida]  \\nO objetivo é cuidar de quem cuida do negócio . \\nO intuito é conceder um período de descanso e proporcionar bem -estar físico e mental a todos os prestadores \\ne colaboradores da CIA.', metadata={'source': './PDFs/Day Off.pdf', 'page': 0}), Document(page_content='• Os Prestadores de Serviços e colaboradores  serão presenteados com um voucher IF OOD no valor de \\nR$ 100,00 pa ra utilizar como desejar n o aplicativo . O Voucher será en viado no d ia do aniversário \\ncom o c ódigo de utilização;', metadata={'source': './PDFs/Day Off.pdf', 'page': 0}), Document(page_content='•  Os Prestadores de Serviços e colaboradores  aniversariantes, terão direito a um dia de descanso no \\nmês de  aniversário  (deve ser alinhado com gestor  de cada área) .', metadata={'source': './PDFs/Day Off.pdf', 'page': 0})]\n",
      "3\n",
      "----------\n",
      "[Document(page_content='Férias e Co [Qualidade de Vida]  \\nO intuito é incentivar um período de descanso e proporcionar bem -estar físico e mental a todos os \\nprestadores e colaboradores da CIA, com acesso a passagens e hospedagens com valores reduzidos.  \\n \\nRegras para adesão e utilização do Programa:', metadata={'source': './PDFs/Orientações do Programa Férias e CO.pdf', 'page': 0}), Document(page_content='• Clique no link  https://ferias.co/colaborador/ , vá em assine já e insira os dados e escolha seu plano, o \\nFérias  e CO irá identifica -lo como colaborador ou prestador de serviços da empresa Com pliance;', metadata={'source': './PDFs/Orientações do Programa Férias e CO.pdf', 'page': 0}), Document(page_content='• A partir de agora já está apto para acessar a plataforma através dos dados enviados para seu e -mail.  \\n \\nOs planos e descontos que contemplam nossa parceira já estarão disponíveis para sua contratação.', metadata={'source': './PDFs/Orientações do Programa Férias e CO.pdf', 'page': 0}), Document(page_content='• A Compliance participará de  um percentual p ara os plano s disponível no programa férias e Co .  \\n \\nO pagamento do percentual do colaborador ou prestador de serviços será cobrado diretamente no seu \\ncartão de crédito.', metadata={'source': './PDFs/Orientações do Programa Férias e CO.pdf', 'page': 0})]\n",
      "4\n",
      "----------\n",
      "[Document(page_content='Descanso  Remunerado  [Qualidade  de Vida]  \\nO objetivo  é cuidar  de quem  cuida  do negócio.  \\nO intuito  é conceder  um período  de descanso  e proporcionar  bem -estar  físico  e mental  a todos  os prestadores  \\ne colaboradores da CIA.  \\n \\nRegras  para  adesão  e utilização  do Programa:', metadata={'source': './PDFs/Programa Descanso Remunerado.pdf', 'page': 0}), Document(page_content='• Após  a aprovação,  será gerado  o comunicado  a toda  empresa  referente  ao período  de descanso  dos \\nprestadores  de serviço, um  dia antes de sua  ausência.  • Os Prestadores de Serviços que completaram 12 meses trabalhados, terão acesso a concessão de  \\ndescanso;', metadata={'source': './PDFs/Programa Descanso Remunerado.pdf', 'page': 0}), Document(page_content='descanso;  \\n• O período de descanso será de 10 dias, podendo eles serem utilizados da seguinte forma: 10 dias  \\ncorridos  (nesse caso, não remun eração no s ábado e domingo)  ou fracionar o perío do de descanso', metadata={'source': './PDFs/Programa Descanso Remunerado.pdf', 'page': 0}), Document(page_content='remunerado em 02 etapas, sendo elas: 5 dias no  primeiro  semestre e  5 dias no segundo  semestre,  \\nanualmente;  \\n• O período  de descanso  remunerado  não poderá  ser cumulativo.  \\n \\nAs datas  de descanso  remunerados  devem  ser alinhadas  entre  o do Departamento  de Recursos  Humanos  e', metadata={'source': './PDFs/Programa Descanso Remunerado.pdf', 'page': 0}), Document(page_content='Diretoria,  sendo  assim, segue  processo  para abertura  de solicitação  de descanso.  \\n \\n• O gestor  da área  deve  solicitar  o acesso  ao período  descanso  remunerado  através  do link: \\nhttps://compliance.bitrix24.com.br/company/lists/199/view/0/?list_section_id  com  30 dias de', metadata={'source': './PDFs/Programa Descanso Remunerado.pdf', 'page': 0}), Document(page_content='antecedência, insira os dados solicit ados e envie o formulário para aprovação do Recursos Humanos e  \\nDiretoria  de área.', metadata={'source': './PDFs/Programa Descanso Remunerado.pdf', 'page': 0})]\n",
      "6\n",
      "----------\n",
      "[Document(page_content='Programa Gympass [Qualidade de Vida]  \\nA Compliance continua engajada com o bem -estar  dos colaboradores . \\nO objetivo é cuidar de quem cuida do negócio , sendo assim  divulgamos a parceria com o programa de', metadata={'source': './PDFs/Programa Gympass.pdf', 'page': 0}), Document(page_content='qualidade de vida Gympass . O intuito é estimular a pratica de atividades que melhor se encaixa com o perfil \\nde cada colaborador e proporcionar bem -estar físico e mental a todos onde quer que esteja com custos \\nreduzidos.', metadata={'source': './PDFs/Programa Gympass.pdf', 'page': 0}), Document(page_content='reduzidos.  \\n \\nE neste momento você  está perguntando  qual os benefícios de adesão ao programa ? \\n \\nLá vão eles:  \\n \\n• Acesso em mais de 21 mil academias e estúdios de atividades físicas;  \\n• Planos mensais com redução de até 75% que o preço de balcão da academia;', metadata={'source': './PDFs/Programa Gympass.pdf', 'page': 0}), Document(page_content='• Liberdade para escolher entre centenas de modalidades como natação, yoga, judô etc...;  \\n• Sem matrícula, sem anuidade ou fidelidade com nenhuma academia , possibilidade de utilizar 1 (uma) \\nvez ao dia qualquer academia que contemple o plano escolhido;', metadata={'source': './PDFs/Programa Gympass.pdf', 'page': 0}), Document(page_content='• Bem -estar: Bem -estar físico e mental por estar praticando atividade física regularmente ; \\n• Inclusão de dependentes (cônjuge e filhos) que se beneficiam da possibilidade de contração de todos \\nos planos com descontos fornecidos pela parceria Compliance X Gympass.', metadata={'source': './PDFs/Programa Gympass.pdf', 'page': 0}), Document(page_content='Regras para adesão e utilização  do Programa:  \\n  \\n• Clique no link https://compliance.bitrix24.com.br/company/lists/155/view/0/?list_section_id=  e \\ninsira os dados para o departamento de Recursos Humanos enviar o formulário ao setor de cadastro', metadata={'source': './PDFs/Programa Gympass.pdf', 'page': 0}), Document(page_content='Gympass e identifica -lo como colaborador da empresa Compliance;  \\n \\n• Após 5 dias úteis do envio do formulário você estará ativo  como colaborador na base de dados do \\nprograma Gympass;  \\n \\n• A partir de agora já está apto a baixar o aplicativo Gympass e efetuar o cadastro de usuário com o seu', metadata={'source': './PDFs/Programa Gympass.pdf', 'page': 0}), Document(page_content='CPF e e -mail da empresa. Automaticamente o sistema identificará você como nosso colaborador e os \\nplanos e descontos que contemplam nossa parceira já esta rão disponíveis para sua contratação. \\nhttps://www.youtube.com/watch?v=i4B3J5W4L44 ;', metadata={'source': './PDFs/Programa Gympass.pdf', 'page': 0}), Document(page_content='• O pagamento do plano é cobrado diretamente no seu cartão de crédito com até 75% de desconto do \\nvalor de mercado da mensalidade convencional das academias, devido ao nosso convênio empresarial, \\nonde a Compliance subsidia um percentual para cada plano dispon ível no programa Gympass.', metadata={'source': './PDFs/Programa Gympass.pdf', 'page': 0}), Document(page_content='Dúvidas frequentes:  \\n \\n• Como fazer o login?  \\n https://www.youtube.com/watch?v=m7Z9oGgibfA   \\n \\n• Como buscar academias?  \\n https://www.youtube.com/watch?v=m7Z9oGgibfA  \\n \\n• Com entrar nas academias?  \\nhttps://www.youtube.com/watch?v=wlwky7cuqto', metadata={'source': './PDFs/Programa Gympass.pdf', 'page': 0})]\n",
      "10\n",
      "----------\n",
      "[Document(page_content='Manual do módulo corporativo · Compliance Capital HumanoCompliance Capital HumanoDocsSuporte›Folha de pagamentoGeralManual de introdução ao sistema HCMGlobalEmpresa usuáriaAgência bancáriaPlano de contas contábilHistórico padrãoDirecionadores contábeisPlano de centro de custosImportação da foto do', metadata={'source': 'https://docs.compliancecapitalhumano.com.br/docs/cor/009_fpgf0001', 'title': 'Manual do módulo corporativo · Compliance Capital Humano', 'description': '**FPGF0001** - Cargos. Esta programa tem por finalidade explicar detalhadamente como fazer o cadastro de cargos.', 'language': 'en'}), Document(page_content='da foto do trabalhadorFolha de pagamentoParâmetros da FolhaCargosCaracterísticas (especificações)ConvêniosSindicatosRubricas x empresa para contabilizaçãoTipos de afastamentosManual do módulo corporativoFPGF0001 - Cargos. Esta programa tem por finalidade explicar detalhadamente como fazer o', metadata={'source': 'https://docs.compliancecapitalhumano.com.br/docs/cor/009_fpgf0001', 'title': 'Manual do módulo corporativo · Compliance Capital Humano', 'description': '**FPGF0001** - Cargos. Esta programa tem por finalidade explicar detalhadamente como fazer o cadastro de cargos.', 'language': 'en'}), Document(page_content='como fazer o cadastro de cargos.', metadata={'source': 'https://docs.compliancecapitalhumano.com.br/docs/cor/009_fpgf0001', 'title': 'Manual do módulo corporativo · Compliance Capital Humano', 'description': '**FPGF0001** - Cargos. Esta programa tem por finalidade explicar detalhadamente como fazer o cadastro de cargos.', 'language': 'en'}), Document(page_content='Todos os campos a serem informados possui uma ajuda (help) explicando detalhadamente o que significa e como informá-lo. Para obter essa ajuda, clique com o mouse sobre o nome do campo que aparecerá uma janela com as informações do respectivo campo.\\nPré-requisito.', metadata={'source': 'https://docs.compliancecapitalhumano.com.br/docs/cor/009_fpgf0001', 'title': 'Manual do módulo corporativo · Compliance Capital Humano', 'description': '**FPGF0001** - Cargos. Esta programa tem por finalidade explicar detalhadamente como fazer o cadastro de cargos.', 'language': 'en'}), Document(page_content='Pré-requisito.\\nFPGF0127 - Cadastro de CBO. Antes de iniciar o cadastro abaixo verifique se o CBO do cargo que vai cadastrar está cadastrado.\\nTela que mostra o relatório de cargos \\nCadastramento\\nPara acessar a tela de cadastro de cargos, clique no botão “Criar” .', metadata={'source': 'https://docs.compliancecapitalhumano.com.br/docs/cor/009_fpgf0001', 'title': 'Manual do módulo corporativo · Compliance Capital Humano', 'description': '**FPGF0001** - Cargos. Esta programa tem por finalidade explicar detalhadamente como fazer o cadastro de cargos.', 'language': 'en'}), Document(page_content='Código:  O código deve ser um número sequencial (não permite duplicidade), caso informe um número que já existe o sistema dá a mensagem “Registro já existe” e não permite criar.', metadata={'source': 'https://docs.compliancecapitalhumano.com.br/docs/cor/009_fpgf0001', 'title': 'Manual do módulo corporativo · Compliance Capital Humano', 'description': '**FPGF0001** - Cargos. Esta programa tem por finalidade explicar detalhadamente como fazer o cadastro de cargos.', 'language': 'en'}), Document(page_content='Descrição e Descrição resumida: deve ser um texto livre que represente o nome do cargo.  Em alguns relatórios ou em algumas listas de seleção é mostrado o campo “Descrição resumida”.', metadata={'source': 'https://docs.compliancecapitalhumano.com.br/docs/cor/009_fpgf0001', 'title': 'Manual do módulo corporativo · Compliance Capital Humano', 'description': '**FPGF0001** - Cargos. Esta programa tem por finalidade explicar detalhadamente como fazer o cadastro de cargos.', 'language': 'en'}), Document(page_content='Situação: Clique sobre o campo, e escolha uma das opções da lista clicando sobre ela. Quando a “Situação” tiver ativada, significa que o cargo poderá ser usado quando solicitado em cadastros e quando tiver desativada, não será permitido.', metadata={'source': 'https://docs.compliancecapitalhumano.com.br/docs/cor/009_fpgf0001', 'title': 'Manual do módulo corporativo · Compliance Capital Humano', 'description': '**FPGF0001** - Cargos. Esta programa tem por finalidade explicar detalhadamente como fazer o cadastro de cargos.', 'language': 'en'}), Document(page_content='CBO: Clique sobre o campo, e escolha uma das opções da lista clicando sobre ela. Pode se opcionalmente digitar o nome ou parte do nome desejado para agilizar a pesquisa.\\nValor do salário teto: Informe um valor que possa servir de referência para este cargo.', metadata={'source': 'https://docs.compliancecapitalhumano.com.br/docs/cor/009_fpgf0001', 'title': 'Manual do módulo corporativo · Compliance Capital Humano', 'description': '**FPGF0001** - Cargos. Esta programa tem por finalidade explicar detalhadamente como fazer o cadastro de cargos.', 'language': 'en'}), Document(page_content='Após ter informado todos os campos, clique em “Criar” para criar o registro e salvar as informações ou em “Cancelar” para desistir. Caso tenha dúvida sobre o preenchimento de algum campo, clique sobre o nome dele que será mostrado uma janela de ajuda com a respectiva explicação.', metadata={'source': 'https://docs.compliancecapitalhumano.com.br/docs/cor/009_fpgf0001', 'title': 'Manual do módulo corporativo · Compliance Capital Humano', 'description': '**FPGF0001** - Cargos. Esta programa tem por finalidade explicar detalhadamente como fazer o cadastro de cargos.', 'language': 'en'}), Document(page_content='Alteração dos dados cadastrados.\\nPara alterar ou excluir, clique no ícone “Lápis” na tela de relatório acima.', metadata={'source': 'https://docs.compliancecapitalhumano.com.br/docs/cor/009_fpgf0001', 'title': 'Manual do módulo corporativo · Compliance Capital Humano', 'description': '**FPGF0001** - Cargos. Esta programa tem por finalidade explicar detalhadamente como fazer o cadastro de cargos.', 'language': 'en'}), Document(page_content='Após ter alterado os campos necessários, clique em “Salvar”,para salvar as informações alteradas, em “Cancelar”, para desistir, ou em  para excluir o cargo do cadastro de cargos. Atenção, se o cargo ja tiver sendo usado em algum cadastro ou qualquer outro lugar no sistema, por exemplo, no cadastro', metadata={'source': 'https://docs.compliancecapitalhumano.com.br/docs/cor/009_fpgf0001', 'title': 'Manual do módulo corporativo · Compliance Capital Humano', 'description': '**FPGF0001** - Cargos. Esta programa tem por finalidade explicar detalhadamente como fazer o cadastro de cargos.', 'language': 'en'}), Document(page_content='no cadastro de trabalhador, não será permitido excluí-lo. Nesse caso coloque a situação como desativada.', metadata={'source': 'https://docs.compliancecapitalhumano.com.br/docs/cor/009_fpgf0001', 'title': 'Manual do módulo corporativo · Compliance Capital Humano', 'description': '**FPGF0001** - Cargos. Esta programa tem por finalidade explicar detalhadamente como fazer o cadastro de cargos.', 'language': 'en'}), Document(page_content='← Parâmetros da FolhaNext →DocsIntrodução (Integração)Tabelas auxiliares (Integração)Ficha financeira (Interação)MaisSiteCasos de sucessoHelp-DeskCopyright © 2024 COMVERT', metadata={'source': 'https://docs.compliancecapitalhumano.com.br/docs/cor/009_fpgf0001', 'title': 'Manual do módulo corporativo · Compliance Capital Humano', 'description': '**FPGF0001** - Cargos. Esta programa tem por finalidade explicar detalhadamente como fazer o cadastro de cargos.', 'language': 'en'})]\n",
      "14\n"
     ]
    }
   ],
   "source": [
    "from langchain.text_splitter import RecursiveCharacterTextSplitter\n",
    "text_splitter = RecursiveCharacterTextSplitter(\n",
    "    # Set a really small chunk size, just to show.\n",
    "    chunk_size=300,\n",
    "    chunk_overlap=20\n",
    ")\n",
    "\n",
    "daySplits = text_splitter.split_documents(dayoffLoader)\n",
    "feriasSplits = text_splitter.split_documents(feriasLoader)\n",
    "dsrSplits = text_splitter.split_documents(dsrLoader)\n",
    "gympasSplits = text_splitter.split_documents(gympassLoader)\n",
    "cargosSplits = text_splitter.split_documents(cargosLoader)\n",
    "\n",
    "print(daySplits)\n",
    "print(len(daySplits))\n",
    "print(\"----------\")\n",
    "print(feriasSplits)\n",
    "print(len(feriasSplits))\n",
    "print(\"----------\")\n",
    "print(dsrSplits)\n",
    "print(len(dsrSplits))\n",
    "print(\"----------\")\n",
    "print(gympasSplits)\n",
    "print(len(gympasSplits))\n",
    "print(\"----------\")\n",
    "print(cargosSplits)\n",
    "print(len(cargosSplits))\n"
   ]
  },
  {
   "cell_type": "markdown",
   "metadata": {},
   "source": [
    "### Embedings\n",
    "Embeding é a tecnica de converter os textos em numeros para pode carregar os documentos nos banco de dados vetoriais para fazer as pesquisas"
   ]
  },
  {
   "cell_type": "code",
   "execution_count": 14,
   "metadata": {},
   "outputs": [
    {
     "name": "stdout",
     "output_type": "stream",
     "text": [
      "Day OFF  [Qualidade de Vida]  \n",
      "O objetivo é cuidar de quem cuida do negócio . \n",
      "O intuito é conceder um período de descanso e proporcionar bem -estar físico e mental a todos os prestadores \n",
      "e colaboradores da CIA.\n"
     ]
    },
    {
     "data": {
      "text/plain": [
       "[-0.012815953173455687,\n",
       " -0.0009917508975812394,\n",
       " 0.024065362292801196,\n",
       " -0.028494901616136013,\n",
       " -0.013025276287830498,\n",
       " 0.022647369765799917,\n",
       " -0.009385761079695036,\n",
       " -0.0025591391955400765,\n",
       " 0.007717931978130839,\n",
       " -0.004527448326716703]"
      ]
     },
     "execution_count": 14,
     "metadata": {},
     "output_type": "execute_result"
    }
   ],
   "source": [
    "from langchain_openai import OpenAIEmbeddings\n",
    "embeddings_model = OpenAIEmbeddings()\n",
    "\n",
    "print(daySplits[0].page_content)\n",
    "\n",
    "embedded_query = embeddings_model.embed_query(daySplits[0].page_content)\n",
    "embedded_query[:10]"
   ]
  },
  {
   "cell_type": "markdown",
   "metadata": {},
   "source": [
    "### Vectorstore\n",
    "Para armazenar os embeddings a melhor forma é utilizar um banco de dados vetorial  \n",
    "Existem diversos tipos de banco de dados de vetores  \n",
    "Chroma, Qudrant, FAISS"
   ]
  },
  {
   "cell_type": "code",
   "execution_count": 15,
   "metadata": {},
   "outputs": [
    {
     "name": "stdout",
     "output_type": "stream",
     "text": [
      "40\n"
     ]
    }
   ],
   "source": [
    "from langchain_community.vectorstores import Chroma\n",
    "\n",
    "db = Chroma()\n",
    "data = db.get()\n",
    "\n",
    "for rec in data['ids']:\n",
    "    db.delete(rec)\n",
    "\n",
    "db = Chroma.from_documents(salarios, OpenAIEmbeddings())\n",
    "db = Chroma.from_documents(daySplits, OpenAIEmbeddings())\n",
    "db = Chroma.from_documents(feriasSplits, OpenAIEmbeddings())\n",
    "db = Chroma.from_documents(dsrSplits, OpenAIEmbeddings())\n",
    "db = Chroma.from_documents(gympasSplits, OpenAIEmbeddings())\n",
    "db = Chroma.from_documents(cargosSplits, OpenAIEmbeddings())\n",
    "\n",
    "print(db._collection.count())"
   ]
  },
  {
   "cell_type": "markdown",
   "metadata": {},
   "source": [
    "#### Busca no Vectorstore"
   ]
  },
  {
   "cell_type": "code",
   "execution_count": 16,
   "metadata": {},
   "outputs": [
    {
     "name": "stdout",
     "output_type": "stream",
     "text": [
      "Conteudo: qualidade de vida Gympass . O intuito é estimular a pratica de atividades que melhor se encaixa com o perfil \n",
      "de cada colaborador e proporcionar bem -estar físico e mental a todos onde quer que esteja com custos \n",
      "reduzidos.\n",
      "Source: './PDFs/Programa Gympass.pdf'\n",
      "-------------\n",
      "Conteudo: • O pagamento do plano é cobrado diretamente no seu cartão de crédito com até 75% de desconto do \n",
      "valor de mercado da mensalidade convencional das academias, devido ao nosso convênio empresarial, \n",
      "onde a Compliance subsidia um percentual para cada plano dispon ível no programa Gympass.\n",
      "Source: './PDFs/Programa Gympass.pdf'\n",
      "-------------\n",
      "Conteudo: Gympass e identifica -lo como colaborador da empresa Compliance;  \n",
      " \n",
      "• Após 5 dias úteis do envio do formulário você estará ativo  como colaborador na base de dados do \n",
      "programa Gympass;  \n",
      " \n",
      "• A partir de agora já está apto a baixar o aplicativo Gympass e efetuar o cadastro de usuário com o seu\n",
      "Source: './PDFs/Programa Gympass.pdf'\n",
      "-------------\n",
      "Conteudo: • Bem -estar: Bem -estar físico e mental por estar praticando atividade física regularmente ; \n",
      "• Inclusão de dependentes (cônjuge e filhos) que se beneficiam da possibilidade de contração de todos \n",
      "os planos com descontos fornecidos pela parceria Compliance X Gympass.\n",
      "Source: './PDFs/Programa Gympass.pdf'\n",
      "-------------\n",
      "---------------------------\n",
      "----------- MMR ----------------\n",
      "Conteudo: qualidade de vida Gympass . O intuito é estimular a pratica de atividades que melhor se encaixa com o perfil \n",
      "de cada colaborador e proporcionar bem -estar físico e mental a todos onde quer que esteja com custos \n",
      "reduzidos.\n",
      "Source: './PDFs/Programa Gympass.pdf'\n",
      "-------------\n",
      "Conteudo: Gympass e identifica -lo como colaborador da empresa Compliance;  \n",
      " \n",
      "• Após 5 dias úteis do envio do formulário você estará ativo  como colaborador na base de dados do \n",
      "programa Gympass;  \n",
      " \n",
      "• A partir de agora já está apto a baixar o aplicativo Gympass e efetuar o cadastro de usuário com o seu\n",
      "Source: './PDFs/Programa Gympass.pdf'\n",
      "-------------\n",
      "Conteudo: Dúvidas frequentes:  \n",
      " \n",
      "• Como fazer o login?  \n",
      " https://www.youtube.com/watch?v=m7Z9oGgibfA   \n",
      " \n",
      "• Como buscar academias?  \n",
      " https://www.youtube.com/watch?v=m7Z9oGgibfA  \n",
      " \n",
      "• Com entrar nas academias?  \n",
      "https://www.youtube.com/watch?v=wlwky7cuqto\n",
      "Source: './PDFs/Programa Gympass.pdf'\n",
      "-------------\n",
      "Conteudo: como fazer o cadastro de cargos.\n",
      "Source: 'https://docs.compliancecapitalhumano.com.br/docs/cor/009_fpgf0001'\n",
      "-------------\n"
     ]
    }
   ],
   "source": [
    "query = \"Como pedir o gympass\"\n",
    "similarity = db.similarity_search(query)\n",
    "for rec in similarity:\n",
    "    print(\"Conteudo: \"+rec.page_content)\n",
    "    print(\"Source: '\"+rec.metadata['source']+\"'\")\n",
    "    print(\"-------------\")\n",
    "\n",
    "print(\"---------------------------\")\n",
    "print(\"----------- MMR ----------------\")\n",
    "\n",
    "mmr = db.max_marginal_relevance_search(query)\n",
    "for rec in mmr:\n",
    "    print(\"Conteudo: \"+rec.page_content)\n",
    "    print(\"Source: '\"+rec.metadata['source']+\"'\")\n",
    "    print(\"-------------\")\n",
    "#print(docs.count())"
   ]
  },
  {
   "cell_type": "markdown",
   "metadata": {},
   "source": [
    "### Retrievers\n",
    "Retrivers são funções que retornam uma lista de documentos, isso pode ser qualquer tipo de função, mas ela precisa passar como parâmetro de entrada uma pergunta não estruturada e retornar uma lista de documentos.\n",
    "Os VectoreStores podem ser configurados para trabalhar como Retrivers"
   ]
  },
  {
   "cell_type": "code",
   "execution_count": 17,
   "metadata": {},
   "outputs": [
    {
     "name": "stdout",
     "output_type": "stream",
     "text": [
      "[Document(page_content='qualidade de vida Gympass . O intuito é estimular a pratica de atividades que melhor se encaixa com o perfil \\nde cada colaborador e proporcionar bem -estar físico e mental a todos onde quer que esteja com custos \\nreduzidos.', metadata={'page': 0, 'source': './PDFs/Programa Gympass.pdf'}), Document(page_content='• O pagamento do plano é cobrado diretamente no seu cartão de crédito com até 75% de desconto do \\nvalor de mercado da mensalidade convencional das academias, devido ao nosso convênio empresarial, \\nonde a Compliance subsidia um percentual para cada plano dispon ível no programa Gympass.', metadata={'page': 0, 'source': './PDFs/Programa Gympass.pdf'}), Document(page_content='Gympass e identifica -lo como colaborador da empresa Compliance;  \\n \\n• Após 5 dias úteis do envio do formulário você estará ativo  como colaborador na base de dados do \\nprograma Gympass;  \\n \\n• A partir de agora já está apto a baixar o aplicativo Gympass e efetuar o cadastro de usuário com o seu', metadata={'page': 0, 'source': './PDFs/Programa Gympass.pdf'}), Document(page_content='• Bem -estar: Bem -estar físico e mental por estar praticando atividade física regularmente ; \\n• Inclusão de dependentes (cônjuge e filhos) que se beneficiam da possibilidade de contração de todos \\nos planos com descontos fornecidos pela parceria Compliance X Gympass.', metadata={'page': 0, 'source': './PDFs/Programa Gympass.pdf'})]\n"
     ]
    }
   ],
   "source": [
    "retriever = db.as_retriever()\n",
    "docsRet = retriever.get_relevant_documents(query)\n",
    "\n",
    "print(docsRet)"
   ]
  },
  {
   "cell_type": "markdown",
   "metadata": {},
   "source": [
    "### Chains\n",
    "Usando tudo junto"
   ]
  },
  {
   "cell_type": "code",
   "execution_count": 18,
   "metadata": {},
   "outputs": [
    {
     "data": {
      "text/plain": [
       "'Para solicitar o Gympass, é necessário preencher um formulário disponibilizado pela empresa Compliance, identificando-se como colaborador da empresa. Após o envio do formulário, em até 5 dias úteis, o colaborador estará ativo na base de dados do programa Gympass e poderá baixar o aplicativo Gympass para efetuar o cadastro de usuário.'"
      ]
     },
     "execution_count": 18,
     "metadata": {},
     "output_type": "execute_result"
    }
   ],
   "source": [
    "from langchain_core.runnables import RunnablePassthrough\n",
    "\n",
    "template = \"\"\"Responda a pergunta baseado somente no seguinte contexto:\n",
    "\n",
    "{context}\n",
    "\n",
    "Pergunta: {question}\n",
    "\"\"\"\n",
    "prompt = ChatPromptTemplate.from_template(template)\n",
    "\n",
    "\n",
    "chain = (\n",
    "    {\"context\": retriever, \"question\": RunnablePassthrough()}\n",
    "    | prompt\n",
    "    | model\n",
    "    | StrOutputParser()\n",
    ")\n",
    "\n",
    "chain.invoke(\"Como solicitar o Gympass?\")"
   ]
  },
  {
   "cell_type": "markdown",
   "metadata": {},
   "source": [
    "### Memory\n",
    "É possível adicionar uma \"memoria\" nos chats, pois a maioria das chamadas é RESTFULL, sem estado.  \n",
    "A memory nada mais é que o acumulo das respostas anteriores que vai sendo adicionado no contexto do prompt"
   ]
  },
  {
   "cell_type": "code",
   "execution_count": 19,
   "metadata": {},
   "outputs": [
    {
     "name": "stdout",
     "output_type": "stream",
     "text": [
      "O cargo do Lucas é Diretor.\n",
      "O salário do Lucas é 1000.\n"
     ]
    }
   ],
   "source": [
    "from langchain_community.chat_message_histories import ChatMessageHistory\n",
    "from langchain_core.chat_history import BaseChatMessageHistory\n",
    "from langchain_core.runnables.history import RunnableWithMessageHistory\n",
    "from langchain_core.prompts import ChatPromptTemplate, MessagesPlaceholder\n",
    "from operator import itemgetter\n",
    "\n",
    "template =[\n",
    "    (\n",
    "        \"system\",\n",
    "        \"\"\"Responda a pergunta baseado somente no seguinte contexto\n",
    "        {context}\n",
    "        \"\"\"\n",
    "     ),\n",
    "    MessagesPlaceholder(variable_name=\"history\"),\n",
    "    (\n",
    "        \"human\",\n",
    "        \"{question}\"\n",
    "    )\n",
    "    ]\n",
    "\n",
    "prompt = ChatPromptTemplate.from_messages(template)\n",
    "\n",
    "chain = ( \n",
    "         prompt\n",
    "         | model\n",
    "         | StrOutputParser()\n",
    ")\n",
    "\n",
    "store = {}\n",
    "\n",
    "def get_session_history(session_id: str) -> BaseChatMessageHistory:\n",
    "    if session_id not in store:\n",
    "        store[session_id] = ChatMessageHistory()\n",
    "    return store[session_id]\n",
    "\n",
    "with_message_history = RunnableWithMessageHistory(\n",
    "    chain,\n",
    "    get_session_history,\n",
    "    input_messages_key=\"question\",\n",
    "    history_messages_key=\"history\",\n",
    ")\n",
    "\n",
    "docs = retriever.get_relevant_documents(\"Qual Cargo do Lucas?\")\n",
    "\n",
    "print(with_message_history.invoke(\n",
    "    {\"context\": docs, \"question\":\"Qual Cargo do Lucas?\"},\n",
    "    config={\"configurable\": {\"session_id\": \"abc123\"}},\n",
    "))\n",
    "\n",
    "print(with_message_history.invoke(\n",
    "    {\"context\": docs, \"question\":\"E o Salário?\"},\n",
    "    config={\"configurable\": {\"session_id\": \"abc123\"}},\n",
    "))"
   ]
  },
  {
   "cell_type": "markdown",
   "metadata": {},
   "source": [
    "Colocando o retriever dentro da Chain"
   ]
  },
  {
   "cell_type": "code",
   "execution_count": 20,
   "metadata": {},
   "outputs": [
    {
     "name": "stdout",
     "output_type": "stream",
     "text": [
      "O cargo de Lucas é Diretor.\n",
      "O salário de Lucas é 1000.\n"
     ]
    }
   ],
   "source": [
    "from langchain_community.chat_message_histories import ChatMessageHistory\n",
    "from langchain_core.chat_history import BaseChatMessageHistory\n",
    "from langchain_core.runnables.history import RunnableWithMessageHistory\n",
    "from langchain_core.prompts import ChatPromptTemplate, MessagesPlaceholder\n",
    "from operator import itemgetter\n",
    "\n",
    "template =[\n",
    "    (\n",
    "        \"system\",\n",
    "        \"\"\"Responda a pergunta baseado somente no seguinte contexto\n",
    "        {context}\n",
    "        \"\"\"\n",
    "     ),\n",
    "    MessagesPlaceholder(variable_name=\"history\"),\n",
    "    (\n",
    "        \"human\",\n",
    "        \"{question}\"\n",
    "    )\n",
    "    ]\n",
    "\n",
    "prompt = ChatPromptTemplate.from_messages(template)\n",
    "\n",
    "contextChain = itemgetter(\"question\") | retriever \n",
    "first_step = RunnablePassthrough.assign(context=contextChain)\n",
    "chain = (\n",
    "    first_step\n",
    "    | prompt\n",
    "    | model\n",
    "    | StrOutputParser()\n",
    ")\n",
    "\n",
    "store = {}\n",
    "\n",
    "def get_session_history(session_id: str) -> BaseChatMessageHistory:\n",
    "    if session_id not in store:\n",
    "        store[session_id] = ChatMessageHistory()\n",
    "    return store[session_id]\n",
    "\n",
    "with_message_history = RunnableWithMessageHistory(\n",
    "    chain,\n",
    "    get_session_history,\n",
    "    input_messages_key=\"question\",\n",
    "    history_messages_key=\"history\",\n",
    ")\n",
    "\n",
    "print(with_message_history.invoke(\n",
    "    {\"context\": retriever, \"question\":\"Qual Cargo do Lucas?\"},\n",
    "    config={\"configurable\": {\"session_id\": \"abc123\"}},\n",
    "))\n",
    "\n",
    "print(with_message_history.invoke(\n",
    "    {\"context\": retriever, \"question\":\"E o Salário?\"},\n",
    "    config={\"configurable\": {\"session_id\": \"abc123\"}},\n",
    "))"
   ]
  },
  {
   "cell_type": "markdown",
   "metadata": {},
   "source": [
    "### Outro exemplo de Chain\n",
    "No caso a baixo, vamos fazer um RAG que também retorna os documentos usados na pergunta"
   ]
  },
  {
   "cell_type": "code",
   "execution_count": 21,
   "metadata": {},
   "outputs": [
    {
     "data": {
      "text/plain": [
       "{'documentos': [Document(page_content='qualidade de vida Gympass . O intuito é estimular a pratica de atividades que melhor se encaixa com o perfil \\nde cada colaborador e proporcionar bem -estar físico e mental a todos onde quer que esteja com custos \\nreduzidos.', metadata={'page': 0, 'source': './PDFs/Programa Gympass.pdf'}),\n",
       "  Document(page_content='• O pagamento do plano é cobrado diretamente no seu cartão de crédito com até 75% de desconto do \\nvalor de mercado da mensalidade convencional das academias, devido ao nosso convênio empresarial, \\nonde a Compliance subsidia um percentual para cada plano dispon ível no programa Gympass.', metadata={'page': 0, 'source': './PDFs/Programa Gympass.pdf'}),\n",
       "  Document(page_content='Gympass e identifica -lo como colaborador da empresa Compliance;  \\n \\n• Após 5 dias úteis do envio do formulário você estará ativo  como colaborador na base de dados do \\nprograma Gympass;  \\n \\n• A partir de agora já está apto a baixar o aplicativo Gympass e efetuar o cadastro de usuário com o seu', metadata={'page': 0, 'source': './PDFs/Programa Gympass.pdf'}),\n",
       "  Document(page_content='• Bem -estar: Bem -estar físico e mental por estar praticando atividade física regularmente ; \\n• Inclusão de dependentes (cônjuge e filhos) que se beneficiam da possibilidade de contração de todos \\nos planos com descontos fornecidos pela parceria Compliance X Gympass.', metadata={'page': 0, 'source': './PDFs/Programa Gympass.pdf'})],\n",
       " 'pergunta': 'Como solicitar o Gympass?',\n",
       " 'resposta': 'Para solicitar o Gympass, é necessário preencher um formulário disponível na empresa Compliance, identificando-se como colaborador da empresa. Após o envio do formulário, em até 5 dias úteis você estará ativo na base de dados do programa Gympass e poderá baixar o aplicativo Gympass para efetuar o cadastro de usuário.'}"
      ]
     },
     "execution_count": 21,
     "metadata": {},
     "output_type": "execute_result"
    }
   ],
   "source": [
    "os.environ[\"LANGCHAIN_TRACING_V2\"] = \"false\"\n",
    "from langchain_core.runnables import RunnableParallel\n",
    "from operator import itemgetter\n",
    "\n",
    "template = \"\"\"Responda a pergunta baseado somente no seguinte contexto:\n",
    "\n",
    "{context}\n",
    "\n",
    "Pergunta: {pergunta}\n",
    "\"\"\"\n",
    "prompt = ChatPromptTemplate.from_template(template)\n",
    "\n",
    "chain = (\n",
    "    RunnablePassthrough.assign(context=itemgetter(\"documentos\"), question=itemgetter(\"pergunta\"))\n",
    "    | prompt\n",
    "    | model\n",
    "    | StrOutputParser()\n",
    ")\n",
    "\n",
    "abc = RunnableParallel(\n",
    "    {\"documentos\": retriever, \"pergunta\": RunnablePassthrough()}\n",
    ").assign(resposta=chain)\n",
    "\n",
    "#abc.get_graph().print_ascii()\n",
    "abc.invoke(\"Como solicitar o Gympass?\")"
   ]
  },
  {
   "cell_type": "markdown",
   "metadata": {},
   "source": [
    "### Agents\n",
    "A ideia central dos agentes é usar um modelo de linguagem para escolher uma sequência de ações a serem tomadas. Em cadeias, uma sequência de ações é pré-definida (no código). Nos agentes, um modelo de linguagem é utilizado como um motor de raciocínio para determinar quais ações tomar e em que ordem."
   ]
  },
  {
   "cell_type": "code",
   "execution_count": 60,
   "metadata": {},
   "outputs": [
    {
     "data": {
      "text/plain": [
       "{'input': 'Qual o cargo do Lucas e o salário do Edvaldo? e como faço para cadastrar cargos no Compliance?',\n",
       " 'output': 'O cargo do Lucas é Diretor e o salário do Edvaldo é R$20.000. Para cadastrar cargos no Compliance, você pode seguir os seguintes passos:\\n\\n1. Acesse a tela de cadastro de cargos no Compliance.\\n2. Clique no botão \"Criar\" para adicionar um novo cargo.\\n3. Preencha os campos obrigatórios, como Código, Descrição, Situação, CBO e Valor do salário teto.\\n4. Clique em \"Criar\" para salvar o registro do cargo.\\n5. Para alterar ou excluir um cargo, clique no ícone \"Lápis\" na tela de relatório e faça as alterações necessárias.\\n\\nCaso tenha dúvidas sobre o preenchimento de algum campo, clique sobre o nome do campo para obter ajuda detalhada.'}"
      ]
     },
     "execution_count": 60,
     "metadata": {},
     "output_type": "execute_result"
    }
   ],
   "source": [
    "from langchain.pydantic_v1 import BaseModel, Field\n",
    "from langchain.tools import BaseTool, StructuredTool, tool\n",
    "from langchain_core.messages import HumanMessage\n",
    "from langchain import hub\n",
    "from langchain.agents import create_openai_functions_agent, AgentExecutor\n",
    "from langchain.agents.output_parsers.openai_tools import OpenAIToolsAgentOutputParser\n",
    "\n",
    "\n",
    "@tool\n",
    "def get_workers(query: str) -> str:\n",
    "    \"\"\"Está ferramenta tem o objetivo de retornar dados de emprego (Cargo, salário e data de admissão) relacionadas a uma pessoa\"\"\"\n",
    "    return \"\\n\\n\".join([doc.page_content for doc in salarios])+\"\\n\"\n",
    "\n",
    "@tool\n",
    "def get_gympass(query: str) -> str:\n",
    "    \"\"\"Está ferramenta tem o objetivo de retornar todos os dados sobre o Gympass\"\"\"\n",
    "    ret = \"\\n\\n\".join([doc.page_content for doc in gympasSplits])\n",
    "    return ret+\"\\n\"\n",
    "\n",
    "@tool\n",
    "def get_dayoff(query: str) -> str:\n",
    "    \"\"\"Está ferramenta tem o objetivo de Explicar sobre o funcionamento do DayOff\"\"\"\n",
    "    ret = \"\\n\\n\".join([doc.page_content for doc in daySplits])\n",
    "    return ret+\"\\n\"\n",
    "\n",
    "@tool\n",
    "def get_feriasco(query: str) -> str:\n",
    "    \"\"\"Está ferramenta tem o objetivo de retornar dados sobre o beneficio Ferias & CO\"\"\"\n",
    "    ret = \"\\n\\n\".join([doc.page_content for doc in feriasSplits])\n",
    "    return ret+\"\\n\"\n",
    "\n",
    "@tool\n",
    "def get_dsr(query: str) -> str:\n",
    "    \"\"\"Está ferramenta tem o objetivo de explicar e dar detalhes sobre o beneficio de Descanso Remunerado (DSR) para PJs\"\"\"\n",
    "    ret = \"\\n\\n\".join([doc.page_content for doc in dsrSplits])\n",
    "    return ret+\"\\n\"\n",
    "\n",
    "@tool\n",
    "def get_cargos(query: str) -> str:\n",
    "    \"\"\"Está ferramenta tem o objetivo de retornar dados sobre como cadastrar cargos no sistema Compliance\"\"\"\n",
    "    ret = \"\\n\\n\".join([doc.page_content for doc in cargosSplits])\n",
    "    return ret+\"\\n\"\n",
    "\n",
    "tools = [get_workers, get_gympass, get_dayoff, get_feriasco, get_dsr, get_cargos]\n",
    "\n",
    "prompt = hub.pull(\"hwchase17/openai-functions-agent\")\n",
    "\n",
    "agent = create_openai_functions_agent(model, tools, prompt)\n",
    "agent_executor = AgentExecutor(agent=agent, tools=tools, verbose=True)\n",
    "\n",
    "agent_executor.invoke({\"input\": \"Qual o cargo do Lucas e o salário do Edvaldo? e como faço para cadastrar cargos no Compliance?\"})"
   ]
  }
 ],
 "metadata": {
  "kernelspec": {
   "display_name": ".venv",
   "language": "python",
   "name": "python3"
  },
  "language_info": {
   "codemirror_mode": {
    "name": "ipython",
    "version": 3
   },
   "file_extension": ".py",
   "mimetype": "text/x-python",
   "name": "python",
   "nbconvert_exporter": "python",
   "pygments_lexer": "ipython3",
   "version": "3.10.12"
  }
 },
 "nbformat": 4,
 "nbformat_minor": 2
}
